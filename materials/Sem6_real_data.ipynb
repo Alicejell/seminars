{
 "cells": [
  {
   "cell_type": "code",
   "execution_count": 1,
   "metadata": {
    "collapsed": true
   },
   "outputs": [],
   "source": [
    "import sklearn.datasets\n",
    "import numpy as np"
   ]
  },
  {
   "cell_type": "code",
   "execution_count": 2,
   "metadata": {
    "collapsed": true
   },
   "outputs": [],
   "source": [
    "from matplotlib import pyplot as plt\n",
    "%matplotlib inline"
   ]
  },
  {
   "cell_type": "code",
   "execution_count": 28,
   "metadata": {
    "collapsed": false
   },
   "outputs": [],
   "source": [
    "import pandas as pd\n",
    "import sklearn"
   ]
  },
  {
   "cell_type": "code",
   "execution_count": 29,
   "metadata": {
    "collapsed": false
   },
   "outputs": [],
   "source": [
    "data = pd.read_csv(\"https://archive.ics.uci.edu/ml/machine-learning-databases/mammographic-masses/mammographic_masses.data\", \n",
    "                   na_values=[\"?\"], header=None)"
   ]
  },
  {
   "cell_type": "code",
   "execution_count": 30,
   "metadata": {
    "collapsed": false
   },
   "outputs": [],
   "source": [
    "X_uci = data[data.columns[:-1]].values\n",
    "y_uci = data[data.columns[-1]].values"
   ]
  },
  {
   "cell_type": "code",
   "execution_count": 50,
   "metadata": {
    "collapsed": true
   },
   "outputs": [],
   "source": [
    "def scatter(X, y, feature1=0, feature2=1):\n",
    "    plt.scatter(X[y==0, feature1], X[y==0, feature2], color=\"red\")\n",
    "    plt.scatter(X[y==1, feature1], X[y==1, feature2], color=\"blue\")"
   ]
  },
  {
   "cell_type": "code",
   "execution_count": 51,
   "metadata": {
    "collapsed": false
   },
   "outputs": [
    {
     "data": {
      "text/plain": [
       "(830, 5)"
      ]
     },
     "execution_count": 51,
     "metadata": {},
     "output_type": "execute_result"
    }
   ],
   "source": [
    "X_uci.shape"
   ]
  },
  {
   "cell_type": "code",
   "execution_count": 52,
   "metadata": {
    "collapsed": false
   },
   "outputs": [
    {
     "data": {
      "image/png": "[encoded data removed]",
      "text/plain": [
       "<matplotlib.figure.Figure at 0x10cdd95c0>"
      ]
     },
     "metadata": {},
     "output_type": "display_data"
    }
   ],
   "source": [
    "scatter(X_uci, y_uci, 0, 2)"
   ]
  },
  {
   "cell_type": "code",
   "execution_count": 34,
   "metadata": {
    "collapsed": false
   },
   "outputs": [
    {
     "data": {
      "text/plain": [
       "(961, 5)"
      ]
     },
     "execution_count": 34,
     "metadata": {},
     "output_type": "execute_result"
    }
   ],
   "source": [
    "X_uci.shape"
   ]
  },
  {
   "cell_type": "code",
   "execution_count": 35,
   "metadata": {
    "collapsed": false
   },
   "outputs": [],
   "source": [
    "with_nans = np.isnan(X_uci).any(axis=1)\n",
    "index = np.logical_not(with_nans)\n",
    "X_uci, y_uci = X_uci[index], y_uci[index]"
   ]
  },
  {
   "cell_type": "code",
   "execution_count": 37,
   "metadata": {
    "collapsed": false
   },
   "outputs": [
    {
     "data": {
      "text/plain": [
       "0.83913043478260874"
      ]
     },
     "execution_count": 37,
     "metadata": {},
     "output_type": "execute_result"
    }
   ],
   "source": [
    "from sklearn.linear_model import LogisticRegression\n",
    "clf = LogisticRegression()\n",
    "clf.fit(X_uci[:600], y_uci[:600])\n",
    "y_pred = clf.predict(X_uci[600:])\n",
    "sklearn.metrics.accuracy_score(y_uci[600:], y_pred)"
   ]
  },
  {
   "cell_type": "code",
   "execution_count": 38,
   "metadata": {
    "collapsed": false
   },
   "outputs": [
    {
     "data": {
      "text/plain": [
       "array([[ 0.90427204,  0.03042879,  0.32993194,  0.42821516, -0.91187044]])"
      ]
     },
     "execution_count": 38,
     "metadata": {},
     "output_type": "execute_result"
    }
   ],
   "source": [
    "clf.coef_"
   ]
  },
  {
   "cell_type": "markdown",
   "metadata": {
    "collapsed": true
   },
   "source": [
    "В данных есть категориальные признаки - делаем one-hot кодирование"
   ]
  },
  {
   "cell_type": "code",
   "execution_count": 40,
   "metadata": {
    "collapsed": false
   },
   "outputs": [],
   "source": [
    "data_oh = pd.get_dummies(data, columns=[2, 3])\n",
    "X_oh, y_oh = data_oh[data_oh.columns.drop(5)].values, data_oh[5].values\n",
    "#with_nans = np.isnan(X_oh).any(axis=1)\n",
    "#index = np.logical_not(with_nans)\n",
    "X_oh, y_oh = X_oh[index], y_oh[index]"
   ]
  },
  {
   "cell_type": "code",
   "execution_count": 41,
   "metadata": {
    "collapsed": false
   },
   "outputs": [
    {
     "data": {
      "text/plain": [
       "0.82173913043478264"
      ]
     },
     "execution_count": 41,
     "metadata": {},
     "output_type": "execute_result"
    }
   ],
   "source": [
    "clf = sklearn.linear_model.LogisticRegression(C=0.1)\n",
    "clf.fit(X_oh[:600], y_oh[:600])\n",
    "y_pred = clf.predict(X_oh[600:])\n",
    "sklearn.metrics.accuracy_score(y_oh[600:], y_pred)"
   ]
  },
  {
   "cell_type": "markdown",
   "metadata": {},
   "source": [
    "На тест-сете хуже. А на кросс-валидации? Так честнее."
   ]
  },
  {
   "cell_type": "code",
   "execution_count": 42,
   "metadata": {
    "collapsed": false
   },
   "outputs": [
    {
     "name": "stderr",
     "output_type": "stream",
     "text": [
      "/usr/local/lib/python3.5/site-packages/sklearn/cross_validation.py:44: DeprecationWarning: This module was deprecated in version 0.18 in favor of the model_selection module into which all the refactored classes and functions are moved. Also note that the interface of the new CV iterators are different from that of this module. This module will be removed in 0.20.\n",
      "  \"This module will be removed in 0.20.\", DeprecationWarning)\n"
     ]
    }
   ],
   "source": [
    "import sklearn.cross_validation"
   ]
  },
  {
   "cell_type": "code",
   "execution_count": 43,
   "metadata": {
    "collapsed": false
   },
   "outputs": [
    {
     "name": "stdout",
     "output_type": "stream",
     "text": [
      "[ 0.78417266  0.83333333  0.81521739] 0.810907795503\n"
     ]
    }
   ],
   "source": [
    "sc = sklearn.cross_validation.cross_val_score(sklearn.linear_model.LogisticRegression(), X_uci, y_uci, )\n",
    "print(sc, sc.mean())"
   ]
  },
  {
   "cell_type": "code",
   "execution_count": 44,
   "metadata": {
    "collapsed": false
   },
   "outputs": [
    {
     "name": "stdout",
     "output_type": "stream",
     "text": [
      "[ 0.81654676  0.83333333  0.8115942 ] 0.820491432941\n"
     ]
    }
   ],
   "source": [
    "sc = sklearn.cross_validation.cross_val_score(sklearn.linear_model.LogisticRegression(), X_oh, y_oh, )\n",
    "print(sc, sc.mean())"
   ]
  },
  {
   "cell_type": "markdown",
   "metadata": {
    "collapsed": true
   },
   "source": [
    "А на кросс-валидации лучше"
   ]
  },
  {
   "cell_type": "markdown",
   "metadata": {
    "collapsed": true
   },
   "source": [
    "Подбор С кросс-валидацией"
   ]
  },
  {
   "cell_type": "code",
   "execution_count": 45,
   "metadata": {
    "collapsed": false
   },
   "outputs": [
    {
     "name": "stderr",
     "output_type": "stream",
     "text": [
      "/usr/local/lib/python3.5/site-packages/sklearn/grid_search.py:43: DeprecationWarning: This module was deprecated in version 0.18 in favor of the model_selection module into which all the refactored classes and functions are moved. This module will be removed in 0.20.\n",
      "  DeprecationWarning)\n"
     ]
    }
   ],
   "source": [
    "import sklearn.grid_search"
   ]
  },
  {
   "cell_type": "code",
   "execution_count": 48,
   "metadata": {
    "collapsed": false
   },
   "outputs": [
    {
     "name": "stdout",
     "output_type": "stream",
     "text": [
      "Fitting 3 folds for each of 10 candidates, totalling 30 fits\n",
      "[CV] C=0.001 .........................................................\n",
      "[CV] ................................ C=0.001, score=0.661871 -   0.0s\n",
      "[CV] C=0.001 .........................................................\n",
      "[CV] ................................ C=0.001, score=0.695652 -   0.0s\n",
      "[CV] C=0.001 .........................................................\n",
      "[CV] ................................ C=0.001, score=0.670290 -   0.0s\n",
      "[CV] C=0.01 ..........................................................\n",
      "[CV] ................................. C=0.01, score=0.776978 -   0.0s\n",
      "[CV] C=0.01 ..........................................................\n",
      "[CV] ................................. C=0.01, score=0.807971 -   0.0s\n",
      "[CV] C=0.01 ..........................................................\n",
      "[CV] ................................. C=0.01, score=0.815217 -   0.0s\n",
      "[CV] C=0.1 ...........................................................\n",
      "[CV] .................................. C=0.1, score=0.805755 -   0.0s\n",
      "[CV] C=0.1 ...........................................................\n",
      "[CV] .................................. C=0.1, score=0.826087 -   0.0s\n",
      "[CV] C=0.1 ...........................................................\n",
      "[CV] .................................. C=0.1, score=0.800725 -   0.0s\n",
      "[CV] C=1.0 ...........................................................\n",
      "[CV] .................................. C=1.0, score=0.816547 -   0.0s\n",
      "[CV] C=1.0 ...........................................................\n",
      "[CV] .................................. C=1.0, score=0.833333 -   0.0s\n",
      "[CV] C=1.0 ...........................................................\n",
      "[CV] .................................. C=1.0, score=0.811594 -   0.0s\n",
      "[CV] C=10.0 ..........................................................\n",
      "[CV] ................................. C=10.0, score=0.812950 -   0.0s\n",
      "[CV] C=10.0 ..........................................................\n",
      "[CV] ................................. C=10.0, score=0.833333 -   0.0s\n",
      "[CV] C=10.0 ..........................................................\n",
      "[CV] ................................. C=10.0, score=0.804348 -   0.0s\n",
      "[CV] C=100.0 .........................................................\n",
      "[CV] ................................ C=100.0, score=0.823741 -   0.0s\n",
      "[CV] C=100.0 .........................................................\n",
      "[CV] ................................ C=100.0, score=0.833333 -   0.0s\n",
      "[CV] C=100.0 .........................................................\n",
      "[CV] ................................ C=100.0, score=0.807971 -   0.0s\n",
      "[CV] C=1000.0 ........................................................\n",
      "[CV] ............................... C=1000.0, score=0.823741 -   0.0s\n",
      "[CV] C=1000.0 ........................................................\n",
      "[CV] ............................... C=1000.0, score=0.833333 -   0.0s\n",
      "[CV] C=1000.0 ........................................................\n",
      "[CV] ............................... C=1000.0, score=0.807971 -   0.0s\n",
      "[CV] C=10000.0 .......................................................\n",
      "[CV] .............................. C=10000.0, score=0.823741 -   0.0s\n",
      "[CV] C=10000.0 .......................................................\n",
      "[CV] .............................. C=10000.0, score=0.833333 -   0.0s\n",
      "[CV] C=10000.0 .......................................................\n",
      "[CV] .............................. C=10000.0, score=0.807971 -   0.0s\n",
      "[CV] C=100000.0 ......................................................\n",
      "[CV] ............................. C=100000.0, score=0.823741 -   0.0s\n",
      "[CV] C=100000.0 ......................................................\n",
      "[CV] ............................. C=100000.0, score=0.833333 -   0.0s\n",
      "[CV] C=100000.0 ......................................................\n",
      "[CV] ............................. C=100000.0, score=0.807971 -   0.0s\n",
      "[CV] C=1000000.0 .....................................................\n",
      "[CV] ............................ C=1000000.0, score=0.823741 -   0.0s\n",
      "[CV] C=1000000.0 .....................................................\n",
      "[CV] ............................ C=1000000.0, score=0.833333 -   0.0s\n",
      "[CV] C=1000000.0 .....................................................\n",
      "[CV] ............................ C=1000000.0, score=0.804348 -   0.0s\n"
     ]
    },
    {
     "name": "stderr",
     "output_type": "stream",
     "text": [
      "[Parallel(n_jobs=1)]: Done   1 out of   1 | elapsed:    0.0s remaining:    0.0s\n",
      "[Parallel(n_jobs=1)]: Done   2 out of   2 | elapsed:    0.0s remaining:    0.0s\n",
      "[Parallel(n_jobs=1)]: Done   3 out of   3 | elapsed:    0.0s remaining:    0.0s\n",
      "[Parallel(n_jobs=1)]: Done   4 out of   4 | elapsed:    0.0s remaining:    0.0s\n",
      "[Parallel(n_jobs=1)]: Done   5 out of   5 | elapsed:    0.0s remaining:    0.0s\n",
      "[Parallel(n_jobs=1)]: Done   6 out of   6 | elapsed:    0.0s remaining:    0.0s\n",
      "[Parallel(n_jobs=1)]: Done   7 out of   7 | elapsed:    0.0s remaining:    0.0s\n",
      "[Parallel(n_jobs=1)]: Done   8 out of   8 | elapsed:    0.0s remaining:    0.0s\n",
      "[Parallel(n_jobs=1)]: Done   9 out of   9 | elapsed:    0.0s remaining:    0.0s\n",
      "[Parallel(n_jobs=1)]: Done  30 out of  30 | elapsed:    0.1s finished\n"
     ]
    },
    {
     "data": {
      "text/plain": [
       "GridSearchCV(cv=None, error_score='raise',\n",
       "       estimator=LogisticRegression(C=1.0, class_weight=None, dual=False, fit_intercept=True,\n",
       "          intercept_scaling=1, max_iter=100, multi_class='ovr', n_jobs=1,\n",
       "          penalty='l2', random_state=None, solver='liblinear', tol=0.0001,\n",
       "          verbose=0, warm_start=False),\n",
       "       fit_params={}, iid=True, n_jobs=1,\n",
       "       param_grid={'C': array([  1.00000e-03,   1.00000e-02,   1.00000e-01,   1.00000e+00,\n",
       "         1.00000e+01,   1.00000e+02,   1.00000e+03,   1.00000e+04,\n",
       "         1.00000e+05,   1.00000e+06])},\n",
       "       pre_dispatch='2*n_jobs', refit=True, scoring=None, verbose=10)"
      ]
     },
     "execution_count": 48,
     "metadata": {},
     "output_type": "execute_result"
    }
   ],
   "source": [
    "cv = sklearn.grid_search.GridSearchCV(sklearn.linear_model.LogisticRegression(), \n",
    "                                      {\"C\": 10.0**np.arange(-3, 7)}, verbose=10)\n",
    "cv.fit(X_oh, y_oh)"
   ]
  },
  {
   "cell_type": "code",
   "execution_count": 49,
   "metadata": {
    "collapsed": false
   },
   "outputs": [
    {
     "data": {
      "text/plain": [
       "[mean: 0.67590, std: 0.01436, params: {'C': 0.001},\n",
       " mean: 0.80000, std: 0.01658, params: {'C': 0.01},\n",
       " mean: 0.81084, std: 0.01096, params: {'C': 0.10000000000000001},\n",
       " mean: 0.82048, std: 0.00930, params: {'C': 1.0},\n",
       " mean: 0.81687, std: 0.01215, params: {'C': 10.0},\n",
       " mean: 0.82169, std: 0.01046, params: {'C': 100.0},\n",
       " mean: 0.82169, std: 0.01046, params: {'C': 1000.0},\n",
       " mean: 0.82169, std: 0.01046, params: {'C': 10000.0},\n",
       " mean: 0.82169, std: 0.01046, params: {'C': 100000.0},\n",
       " mean: 0.82048, std: 0.01206, params: {'C': 1000000.0}]"
      ]
     },
     "execution_count": 49,
     "metadata": {},
     "output_type": "execute_result"
    }
   ],
   "source": [
    "cv.grid_scores_"
   ]
  },
  {
   "cell_type": "code",
   "execution_count": null,
   "metadata": {
    "collapsed": true
   },
   "outputs": [],
   "source": []
  }
 ],
 "metadata": {
  "anaconda-cloud": {},
  "kernelspec": {
   "display_name": "Python 3",
   "language": "python",
   "name": "python3"
  },
  "language_info": {
   "codemirror_mode": {
    "name": "ipython",
    "version": 3
   },
   "file_extension": ".py",
   "mimetype": "text/x-python",
   "name": "python",
   "nbconvert_exporter": "python",
   "pygments_lexer": "ipython3",
   "version": "3.5.2"
  }
 },
 "nbformat": 4,
 "nbformat_minor": 1
}
