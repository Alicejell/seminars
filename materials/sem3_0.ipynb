{
 "cells": [
  {
   "cell_type": "code",
   "execution_count": 40,
   "metadata": {
    "collapsed": true
   },
   "outputs": [],
   "source": [
    "import numpy as np"
   ]
  },
  {
   "cell_type": "markdown",
   "metadata": {
    "collapsed": true
   },
   "source": [
    "## Семинар №3. Основы scikit-learn. Алгоритм k-NN.\n",
    "\n",
    "На этом семинаре мы начнём изучать самую популярную библиотеку для машинного обучения, а именно scikit-learn.\n",
    "Здесь написано огромное число базовых функций и алгоритмов. У них понятный интерфейс, поэтому использовать их очень просто.\n",
    "\n",
    "### Вспоминаем ООП\n",
    "\n",
    "Чтобы начать пользоваться scikit-learn'ом, нужно вспомнить, как устроены классы в питоне. \n",
    "\n",
    "Давайте рассмотрим игрушечный пример. Создадим класс ```EatingRabbit```. Объект класса — кролик, которого мы хотим покормить морковкой. Для этого мы создадим метод ```feed(num_carrots)```, после вызова которого «кролик» должен написать, сколько моркови он уже съел. Но не всё так просто: у каждого кролика есть предел, больше которого он съесть не может. Если предел достигнут, нужно написать ```'I am overflowed!'```."
   ]
  },
  {
   "cell_type": "code",
   "execution_count": 35,
   "metadata": {
    "collapsed": true
   },
   "outputs": [],
   "source": [
    "class EatingRabbit:\n",
    "    def __init__(self, limit=10):\n",
    "        self.counter = 0\n",
    "        self.limit = limit\n",
    "        \n",
    "    def feed(self, num_carrots):\n",
    "        self.counter += num_carrots\n",
    "        if self.counter <= self.limit:\n",
    "            print('Thanks, I`ve eaten {0} carrot(s)!'.format(self.counter))\n",
    "        else:\n",
    "            self.counter -= num_carrots\n",
    "            print('I`m overflowed!')"
   ]
  },
  {
   "cell_type": "code",
   "execution_count": 36,
   "metadata": {
    "collapsed": false
   },
   "outputs": [
    {
     "name": "stdout",
     "output_type": "stream",
     "text": [
      "Thanks, I`ve eaten 2 carrot(s)!\n",
      "Thanks, I`ve eaten 5 carrot(s)!\n",
      "I`m overflowed!\n"
     ]
    }
   ],
   "source": [
    "rabbit_1 = EatingRabbit(10)\n",
    "rabbit_1.feed(2)\n",
    "rabbit_1.feed(3)\n",
    "rabbit_1.feed(6)"
   ]
  },
  {
   "cell_type": "markdown",
   "metadata": {},
   "source": [
    "Можно создать несколько объектов класса EatingRabbit с разными значениями limit. У каждого будет свой счётчик моркови:"
   ]
  },
  {
   "cell_type": "code",
   "execution_count": 37,
   "metadata": {
    "collapsed": false
   },
   "outputs": [
    {
     "name": "stdout",
     "output_type": "stream",
     "text": [
      "Thanks, I`ve eaten 4 carrot(s)!\n",
      "Thanks, I`ve eaten 7 carrot(s)!\n",
      "Thanks, I`ve eaten 5 carrot(s)!\n",
      "Thanks, I`ve eaten 10 carrot(s)!\n",
      "Thanks, I`ve eaten 8 carrot(s)!\n"
     ]
    }
   ],
   "source": [
    "rabbit_1 = EatingRabbit(10)\n",
    "rabbit_2 = EatingRabbit(15)\n",
    "rabbit_1.feed(4)\n",
    "rabbit_2.feed(7)\n",
    "rabbit_1.feed(1)\n",
    "rabbit_1.feed(5)\n",
    "rabbit_2.feed(1)"
   ]
  },
  {
   "cell_type": "markdown",
   "metadata": {},
   "source": [
    "### Об интерфейсе алгоритмов\n",
    "\n",
    "Алгоритмы в sklearn'е — это  классы языка питон. У них могут быть методы:\n",
    "\n",
    "**```fit(X_train, y_train)```** или **```fit(X_train)```**. \n",
    "\n",
    "Здесь ```X_train``` — это объекты обучающей выборки, то есть числовая матрица «объекты × признаки», а ```y_train``` — это вектор ответов. В методе ```fit``` происходит _обучение алгоритма_, то есть нахождение его _параметров_.\n",
    "\n",
    "Алгоритмы обучения без учителя на вход получают только матрицу «объекты × признаки», а алгоритмы обучения с учителем ещё и ответы на этих объектах.\n",
    "\n",
    "**```predict(X_test)```** — построение прогноза для тестовой выборки. Здесь ```X_test``` — это тоже матрица «объекты × признаки», но только уже для объектов тестовой выборки. \n",
    "\n",
    "Многие алгоритмы классификации умеют ещё и строить оценку вероятности принадлежности объекта заданному классу. Эти вероятности можно получить, вызвав **```predict_proba(X_test)```**.\n",
    "\n",
    "Кроме алгоритмов классификации, регрессии и кластеризации в sklearn есть и другие: для предобработки данных, извлечения и отбора признаков или уменьшения признакового пространства. Для них вместо метода ```predict``` реализован метод **```transform(X)```**.\n",
    "\n",
    "На работу алгоритма влияют две сущности:\n",
    "* параметры, которые алгоритм настраивает сам,\n",
    "* гиперпараметры, которые алгоритм не может настроить сам — ему нужно помочь. Гиперпараметры нужно определить при создании класса и передать в конструктор класса.\n",
    "\n",
    "Давайте проверим, что всё работает. \n",
    "\n",
    "Сначала искусственно создадим данные (для задачи двухклассовой классификации):"
   ]
  },
  {
   "cell_type": "code",
   "execution_count": 82,
   "metadata": {
    "collapsed": false
   },
   "outputs": [],
   "source": [
    "X_train = np.array([\n",
    "        [3, 9],\n",
    "        [2, 8],\n",
    "        [4, 8],\n",
    "        [3, 7],\n",
    "        [4, 7],\n",
    "        [2, 6],\n",
    "        [8, 3],\n",
    "        [1, 8],\n",
    "        [2, 7],\n",
    "        [6, 3],\n",
    "        [7, 2],\n",
    "        [7, 3],\n",
    "        [7, 4],\n",
    "        [8, 5]])\n",
    "y_train = np.array([1, 1, 1, 1, 1, 1, 1, 0, 0, 0, 0, 0, 0, 0])\n",
    "X_test = np.array([\n",
    "        [3, 8],\n",
    "        [1, 7],\n",
    "        [6, 2],\n",
    "        [8, 4]])\n",
    "y_test = np.array([1, 1, 0, 0])"
   ]
  },
  {
   "cell_type": "markdown",
   "metadata": {},
   "source": [
    "... и нарисуем картинку:"
   ]
  },
  {
   "cell_type": "code",
   "execution_count": 175,
   "metadata": {
    "collapsed": false
   },
   "outputs": [
    {
     "data": {
      "text/plain": [
       "<matplotlib.collections.PathCollection at 0x10d4249b0>"
      ]
     },
     "execution_count": 175,
     "metadata": {},
     "output_type": "execute_result"
    },
    {
     "data": {
      "image/png": "[encoded data removed]",
      "text/plain": [
       "<matplotlib.figure.Figure at 0x10d3e35f8>"
      ]
     },
     "metadata": {},
     "output_type": "display_data"
    }
   ],
   "source": [
    "# Строчка, чтобы графики отображались в ноутбуке:\n",
    "%matplotlib inline\n",
    "# Вызов библиотеки:\n",
    "import matplotlib.pyplot as plt\n",
    "\n",
    "# Нарисуем точки из обучающей выборки:\n",
    "plt.scatter(x=X_train[:, 0], y=X_train[:, 1], c=y_train, s=100)"
   ]
  },
  {
   "cell_type": "markdown",
   "metadata": {},
   "source": [
    "Попробуйте сами ответить, как отработает алгоритм трёх ближайших соседей с евклидовой метрикой."
   ]
  },
  {
   "cell_type": "code",
   "execution_count": null,
   "metadata": {
    "collapsed": true
   },
   "outputs": [],
   "source": [
    "X_test = np.array([\n",
    "        [3, 8],\n",
    "        [1, 7],\n",
    "        [6, 2],\n",
    "        [8, 4]])"
   ]
  },
  {
   "cell_type": "markdown",
   "metadata": {},
   "source": [
    "Теперь можно запускать классификатор. Чтобы найти, как называется и где лежит нужный алгоритм в sklearn'е, нужно просто погуглить. Запрос «k nearest neighbors classification scikit-learn» приведёт нас на [нужную страницу](http://scikit-learn.org/stable/modules/generated/sklearn.neighbors.KNeighborsClassifier.html#sklearn.neighbors.KNeighborsClassifier). Можем импортировать алгоритм:"
   ]
  },
  {
   "cell_type": "code",
   "execution_count": 176,
   "metadata": {
    "collapsed": true
   },
   "outputs": [],
   "source": [
    "from sklearn.neighbors import KNeighborsClassifier"
   ]
  },
  {
   "cell_type": "markdown",
   "metadata": {},
   "source": [
    "Теперь создаём классификатор — объект класса KNeighborsClassifier. В круглых скобочках передаём гиперпараметры алгоритма. Значения гиперапараметров пока возьмём «с потолка»: ```metric='euclidean'``` и ```n_neighbors=3```."
   ]
  },
  {
   "cell_type": "code",
   "execution_count": 177,
   "metadata": {
    "collapsed": true
   },
   "outputs": [],
   "source": [
    "clf = KNeighborsClassifier(n_neighbors=3, metric='euclidean')"
   ]
  },
  {
   "cell_type": "markdown",
   "metadata": {},
   "source": [
    "Запускаем метод ```fit``` для обучения алгоритма:"
   ]
  },
  {
   "cell_type": "code",
   "execution_count": 178,
   "metadata": {
    "collapsed": false
   },
   "outputs": [
    {
     "data": {
      "text/plain": [
       "KNeighborsClassifier(algorithm='auto', leaf_size=30, metric='euclidean',\n",
       "           metric_params=None, n_jobs=1, n_neighbors=3, p=2,\n",
       "           weights='uniform')"
      ]
     },
     "execution_count": 178,
     "metadata": {},
     "output_type": "execute_result"
    }
   ],
   "source": [
    "clf.fit(X_train, y_train)"
   ]
  },
  {
   "cell_type": "markdown",
   "metadata": {},
   "source": [
    "Теперь запускаем метод ```predict``` для получения ответа алгоритма на тестовой выборке:"
   ]
  },
  {
   "cell_type": "code",
   "execution_count": 179,
   "metadata": {
    "collapsed": false
   },
   "outputs": [
    {
     "data": {
      "text/plain": [
       "array([1, 0, 0, 0])"
      ]
     },
     "execution_count": 179,
     "metadata": {},
     "output_type": "execute_result"
    }
   ],
   "source": [
    "y_pred = clf.predict(X_test)\n",
    "y_pred"
   ]
  },
  {
   "cell_type": "markdown",
   "metadata": {},
   "source": [
    "Ура! Мы обучили первый классификатор! Вместо ```KNeighborsClassifier``` можно взять любой другой алгоритм классификации, поменяв в коде лишь названия и значения гиперпараметров.\n",
    "\n",
    "Осталось измерить качество полученного алгоритма. Самый простой способ — посчитать долю правильных ответов. Для этого в ```sklearn.metrics``` есть функция ```accuracy_score```."
   ]
  },
  {
   "cell_type": "code",
   "execution_count": 180,
   "metadata": {
    "collapsed": false
   },
   "outputs": [
    {
     "data": {
      "text/plain": [
       "0.75"
      ]
     },
     "execution_count": 180,
     "metadata": {},
     "output_type": "execute_result"
    }
   ],
   "source": [
    "from sklearn.metrics import accuracy_score\n",
    "\n",
    "accuracy_score(y_true=y_test, y_pred=y_pred)"
   ]
  },
  {
   "cell_type": "markdown",
   "metadata": {},
   "source": [
    "То же самое можно сделать в numpy так:"
   ]
  },
  {
   "cell_type": "code",
   "execution_count": 181,
   "metadata": {
    "collapsed": false
   },
   "outputs": [
    {
     "data": {
      "text/plain": [
       "0.75"
      ]
     },
     "execution_count": 181,
     "metadata": {},
     "output_type": "execute_result"
    }
   ],
   "source": [
    "np.mean(y_test == y_pred) # По умолчанию True — это 1, а False — 0"
   ]
  },
  {
   "cell_type": "markdown",
   "metadata": {},
   "source": [
    "### О разделении выборки на обучение и контроль\n",
    "\n",
    "В реальной жизни часто нет готового разбиения всей выборки на обучающую и контрольную: есть только X и y — выборку надо разбить. Но перед этим её нужно случайно перемешать (почему?), а потом поделить в нужной пропорции.\n",
    "\n",
    "В стародавние времена эту рутинную операцию нужно было писать своими руками, но теперь есть функция ```train_test_split``` из ```sklearn.model_selection```."
   ]
  },
  {
   "cell_type": "code",
   "execution_count": 115,
   "metadata": {
    "collapsed": false
   },
   "outputs": [],
   "source": [
    "from sklearn.model_selection import train_test_split\n",
    "\n",
    "# Склеим данные обратно:\n",
    "X = np.vstack([X_train, X_test])\n",
    "y = np.hstack([y_train, y_test])\n",
    "\n",
    "# Построим новое разбиение на обучение и контроль\n",
    "X_train_new, X_test_new, y_train_new, y_test_new = train_test_split(\n",
    "    X, y, test_size=0.3, random_state=42)"
   ]
  },
  {
   "cell_type": "markdown",
   "metadata": {},
   "source": [
    "Здесь важно указывать ```random_state```, чтобы каждый раз генерировалась одинаковая последовательность псевдослучайных чисел."
   ]
  },
  {
   "cell_type": "markdown",
   "metadata": {},
   "source": [
    "### О kNN для классификации"
   ]
  },
  {
   "cell_type": "markdown",
   "metadata": {},
   "source": [
    "Алгоритм K ближайших соседей подробно обсуждали на лекции. Мы считаем, что объект — это точка в многомерном пространстве, где каждая координата — это признак. Между точками в многомерном пространстве можно посчитать расстояние. Предполагаем, что чем ближе объекты находятся в признаковом пространстве, тем они более похожи («гипотеза компактности»).\n",
    "\n",
    "Алгоритм k ближайших соседей для **классификации** устроен просто. На этапе обучения он просто запоминает обучающую выборку. А когда нужно сделать предсказание класса нового объекта, он просто смотрит на классы $k$ (гиперпараметр) самых близких соседей и относит объект к самому распространённому классу среди соседей.\n",
    "\n",
    "Общую формулу можно записать вот так:\n",
    "\n",
    "$$\n",
    "a(x) = \\arg\\max_{y \\in \\mathbb{Y}} \\sum\\limits_{i = 1}^{k} \\left[y_{(i)} = y \\right]\n",
    "$$\n",
    "\n",
    "В формуле много на первый взгляд непонятных обозначений. Поясним их по порядку:\n",
    "\n",
    "• $x$ — это новый объект из тестовой выборки, для него нужно сделать предказание;\n",
    "\n",
    "• $a$ значит алгоритм. Он принимает на вход $x$ и возвращает класс из множества $\\mathbb{Y}$;\n",
    "\n",
    "• $\\mathbb{Y}$ — это множество классов;\n",
    "\n",
    "• $\\arg\\max$ — это функция, возвращающая аргумент, на которой достигается максимум выражения. Поясним на примере. Рассмотрим функцию $-(0.5 - x)^2$ на отрезке $[0, 1]$. Максимум это функции на нём равен нулю, то есть $\\max\\limits_{x \\in [0, 1]} \\lbrace -(0.5 - x)^2\\rbrace = 0$. Максимум достигается при $x = 0.5$, а значит $\\arg\\max\\limits_{x \\in [0, 1]} \\lbrace -(0.5 - x)^2\\rbrace = 0.5$. \n",
    "\n",
    "• [ ] — это индикаторная функция. Индикатор от чего-то истинного равен 1, а от ложного — 0. Например $[2 + 2 = 4] = 1$, но $[1 = 0] = 0$. Иногда такое обозначение называют нотацией Айверсона.\n",
    "\n",
    "• Осталось понять, что такое $y_{(i)}$. Начнём издалека: вспомним, что у нас есть обучающая выборка в виде $x_1, \\ldots, x_n$ — объектов и $y_1, \\ldots, y_n$. Для каждого объекта $x$ из тестовой выборки мы можем упорядочить объекты обучающей выборки так, что $x_{(1)}$ будет ближайшим соседом, а $x_{(n)}$ — самым дальним. Соотственно, $y_{(1)}$ — класс самого близкого соседа, а $y_{(n)}$ — класс самого дальнего.\n",
    "\n",
    "Соотстветственно, алгоритм зависит от двух гиперпараметров: метрики (она же — функция расстояния) и числа учитываемых ближайших соседей."
   ]
  },
  {
   "cell_type": "code",
   "execution_count": null,
   "metadata": {
    "collapsed": true
   },
   "outputs": [],
   "source": []
  }
 ],
 "metadata": {
  "kernelspec": {
   "display_name": "Python 3",
   "language": "python",
   "name": "python3"
  },
  "language_info": {
   "codemirror_mode": {
    "name": "ipython",
    "version": 3
   },
   "file_extension": ".py",
   "mimetype": "text/x-python",
   "name": "python",
   "nbconvert_exporter": "python",
   "pygments_lexer": "ipython3",
   "version": "3.5.2"
  }
 },
 "nbformat": 4,
 "nbformat_minor": 1
}
