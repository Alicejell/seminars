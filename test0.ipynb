{
 "cells": [
  {
   "cell_type": "markdown",
   "metadata": {},
   "source": [
    "# Проверочная работа №0\n",
    "\n",
    "Эта проверочная работа не влияет отрицательно на оценку. Мы проводим её, чтобы понять, какие темы вы знаете хорошо, а какие — не очень.\n",
    "\n",
    "Для мотивации тем, кто решит *достаточно много* задач, добавим баллы к аудиторной оценке в конце семестра. Но что такое *достаточно много*, мы поймём по результатам.\n",
    "\n",
    "Можно пользоваться интернетом, но нельзя переписываться в чатах или общаться с соседями. Если вы нашли решение или его малую часть в интернете, добавьте, пожалуйста, ссылку на соответствующую страницу.\n",
    "\n",
    "Решения отправляйте на **hse.minor.dm@gmail.com** с темой **«[ИАД-номер\\_группы] Test0 Фамилия Имя»**. Если вы вдруг захотели дорешать проверочную работу после семинара — отправляйте решение в таком же формате."
   ]
  },
  {
   "cell_type": "markdown",
   "metadata": {},
   "source": [
    "### Python"
   ]
  },
  {
   "cell_type": "markdown",
   "metadata": {},
   "source": [
    "**№1.1** Дана строка. Создать строку, в которой сначала расположены по порядку все символы на чётных, а затем — на нечётных позициях исходной строки. Циклами пользоваться нельзя."
   ]
  },
  {
   "cell_type": "code",
   "execution_count": 16,
   "metadata": {
    "collapsed": false
   },
   "outputs": [],
   "source": [
    "a = 'abcdef' # Result is 'acebdf'\n",
    "\n",
    "# Code here"
   ]
  },
  {
   "cell_type": "markdown",
   "metadata": {},
   "source": [
    "**№1.2** Дано два списка. Создать список из элементов, которые встречаются ровно в одном списке, в произвольном порядке. (Считать, что в списке могут быть только числа и строки.)"
   ]
  },
  {
   "cell_type": "code",
   "execution_count": 17,
   "metadata": {
    "collapsed": false
   },
   "outputs": [],
   "source": [
    "a = [1, '1', 123, 'abc', True, False]\n",
    "b = ['1', 2, True, 0, 42, 35, 'abc']\n",
    "# Result is [False, 1, 2, 35, 42, 'abc', '1', 123]\n",
    "\n",
    "# Code here"
   ]
  },
  {
   "cell_type": "markdown",
   "metadata": {},
   "source": [
    "**№1.3** Дана строка. Посчитайте количество слов, букв и знаков препинания в ней."
   ]
  },
  {
   "cell_type": "code",
   "execution_count": 18,
   "metadata": {
    "collapsed": true
   },
   "outputs": [],
   "source": [
    "s = 'A cake is a lie. Miss me? Never gonna give you up, never gonna let you down.'\n",
    "\n",
    "# Code here"
   ]
  },
  {
   "cell_type": "markdown",
   "metadata": {},
   "source": [
    "### NumPy\n",
    "\n",
    "**При решении задач этого раздела нельзя пользоваться циклами!**"
   ]
  },
  {
   "cell_type": "code",
   "execution_count": 19,
   "metadata": {
    "collapsed": true
   },
   "outputs": [],
   "source": [
    "import numpy as np"
   ]
  },
  {
   "cell_type": "markdown",
   "metadata": {},
   "source": [
    "**№2.1** Дана матрица. Определить, одинакова ли сумма во всех его строках и столбцах."
   ]
  },
  {
   "cell_type": "code",
   "execution_count": 20,
   "metadata": {
    "collapsed": true
   },
   "outputs": [],
   "source": [
    "A = np.array([[4, 9, 2], [3, 5, 7], [8, 1, 6]])\n",
    "\n",
    "# Code here"
   ]
  },
  {
   "cell_type": "markdown",
   "metadata": {},
   "source": [
    "**№2.2** Дан массив произвольной размерности из целых чисел. Заменить в нём минимальный элемент на максимальный. Если их несколько, заменить все."
   ]
  },
  {
   "cell_type": "code",
   "execution_count": 21,
   "metadata": {
    "collapsed": true
   },
   "outputs": [],
   "source": [
    "A = np.random.randint(-100, 100, (10, 10))\n",
    "\n",
    "# Code here"
   ]
  },
  {
   "cell_type": "markdown",
   "metadata": {},
   "source": [
    "**№2.3** Даны два массива из нулей и единиц одинакового размера. Найти долю совпадающих элементов массивов."
   ]
  },
  {
   "cell_type": "code",
   "execution_count": 22,
   "metadata": {
    "collapsed": true
   },
   "outputs": [],
   "source": [
    "a = np.random.randint(0, 2, (10))\n",
    "b = np.random.randint(0, 2, (10))\n",
    "\n",
    "# Code here"
   ]
  },
  {
   "cell_type": "markdown",
   "metadata": {},
   "source": [
    "**№2.4** Даны двумерный массив A размера n×n и два одномерных целочисленных массива длины n — i и j. Создать одномерный массив из элементов \n",
    "\n",
    "A[i[0], j[0]], A[i[1], j[1]], …, A[i[n], j[n]]."
   ]
  },
  {
   "cell_type": "code",
   "execution_count": 23,
   "metadata": {
    "collapsed": true
   },
   "outputs": [],
   "source": [
    "n = 10\n",
    "A = np.random.random((n, n))\n",
    "i = np.random.randint(0, n, (n))\n",
    "j = np.random.randint(0, n, (n))\n",
    "\n",
    "# Code here"
   ]
  },
  {
   "cell_type": "markdown",
   "metadata": {},
   "source": [
    "**№2.5** Дан одномерный массив. Случайным образом разбить его элементы на два массива, длины которых примерно относятся как 3 к 7."
   ]
  },
  {
   "cell_type": "code",
   "execution_count": 24,
   "metadata": {
    "collapsed": true
   },
   "outputs": [],
   "source": [
    "X = np.arange(100)\n",
    "\n",
    "# Code here"
   ]
  },
  {
   "cell_type": "markdown",
   "metadata": {},
   "source": [
    "**№2.6** Дан одномерный массив. Применить к нему линейное преобразование, после которого максимум будет равен единице, а среднее арифметическое — нулю."
   ]
  },
  {
   "cell_type": "code",
   "execution_count": 26,
   "metadata": {
    "collapsed": true
   },
   "outputs": [],
   "source": [
    "X = np.random.randint(-100, 100, (10)).astype(float)\n",
    "\n",
    "# Code here"
   ]
  },
  {
   "cell_type": "markdown",
   "metadata": {},
   "source": [
    "**№2.7** Найти в целочисленном массиве максимальный элемент среди чётных чисел."
   ]
  },
  {
   "cell_type": "code",
   "execution_count": 28,
   "metadata": {
    "collapsed": true
   },
   "outputs": [],
   "source": [
    "X = np.random.randint(-100, 100, (10, 10))\n",
    "\n",
    "# Code here"
   ]
  },
  {
   "cell_type": "markdown",
   "metadata": {},
   "source": [
    "**№2.8** Построить матрицу A размера 10 × 10 такую, что A[i, j] = i + j + 1.\n",
    "\n",
    "*Подсказка: не знаете решения — изучите broadcasting в numpy.*"
   ]
  },
  {
   "cell_type": "markdown",
   "metadata": {},
   "source": [
    "### Pandas"
   ]
  },
  {
   "cell_type": "code",
   "execution_count": 1,
   "metadata": {
    "collapsed": true
   },
   "outputs": [],
   "source": [
    "import pandas as pd"
   ]
  },
  {
   "cell_type": "markdown",
   "metadata": {},
   "source": [
    "Скачайте таблицу с данными о некоторых пассажирах «Титаника» по [ссылке](https://dl.dropboxusercontent.com/u/79652444/minor/titanic.csv). "
   ]
  },
  {
   "cell_type": "markdown",
   "metadata": {},
   "source": [
    "**№3.1** Откройте файл и выведите информацию о пяти первых пассажирах."
   ]
  },
  {
   "cell_type": "code",
   "execution_count": null,
   "metadata": {
    "collapsed": true
   },
   "outputs": [],
   "source": []
  },
  {
   "cell_type": "markdown",
   "metadata": {},
   "source": [
    "**№3.2** Посчитайте наименьший, наибольший и средний возраст пассажиров на корабле."
   ]
  },
  {
   "cell_type": "code",
   "execution_count": null,
   "metadata": {
    "collapsed": true
   },
   "outputs": [],
   "source": []
  },
  {
   "cell_type": "markdown",
   "metadata": {},
   "source": [
    "**№3.3** Посчитайте среднюю цену билета (Fare) выживших и погибших пассажиров по отдельности."
   ]
  },
  {
   "cell_type": "code",
   "execution_count": null,
   "metadata": {
    "collapsed": true
   },
   "outputs": [],
   "source": []
  },
  {
   "cell_type": "markdown",
   "metadata": {},
   "source": [
    "**№3.4** Выведите имена пяти самых старых пассажиров."
   ]
  },
  {
   "cell_type": "code",
   "execution_count": null,
   "metadata": {
    "collapsed": true
   },
   "outputs": [],
   "source": []
  },
  {
   "cell_type": "markdown",
   "metadata": {},
   "source": [
    "**№3.5** Удалите столбец с номером каюты."
   ]
  },
  {
   "cell_type": "code",
   "execution_count": null,
   "metadata": {
    "collapsed": true
   },
   "outputs": [],
   "source": []
  },
  {
   "cell_type": "markdown",
   "metadata": {},
   "source": [
    "**№3.6** Замените пропуски в столбце с возрастом на средний возраст среди всех пассажиров."
   ]
  },
  {
   "cell_type": "code",
   "execution_count": null,
   "metadata": {
    "collapsed": true
   },
   "outputs": [],
   "source": []
  },
  {
   "cell_type": "markdown",
   "metadata": {},
   "source": [
    "**№3.7** (2 балла)\n",
    "\n",
    "**а)** Создайте столбец Surname с фамилиями пассажиров, получив нужную информацию из столбца Name.\n",
    "\n",
    "**б)** Посчитайте, сколько на «Титанике» было семей из трёх и более человек (семьёй считаем группу людей с одинаковой фамилией)."
   ]
  },
  {
   "cell_type": "code",
   "execution_count": null,
   "metadata": {
    "collapsed": true
   },
   "outputs": [],
   "source": []
  }
 ],
 "metadata": {
  "kernelspec": {
   "display_name": "Python 3",
   "language": "python",
   "name": "python3"
  },
  "language_info": {
   "codemirror_mode": {
    "name": "ipython",
    "version": 3
   },
   "file_extension": ".py",
   "mimetype": "text/x-python",
   "name": "python",
   "nbconvert_exporter": "python",
   "pygments_lexer": "ipython3",
   "version": "3.5.2"
  }
 },
 "nbformat": 4,
 "nbformat_minor": 1
}
